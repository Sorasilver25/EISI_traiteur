{
 "cells": [
  {
   "cell_type": "markdown",
   "id": "7325070d",
   "metadata": {},
   "source": [
    "# Test Python\n",
    "\n",
    "Nom : Niceto\n",
    "\n",
    "Prénom : Adrien\n",
    "\n",
    "DM: Optimiser le code de l'exercice 3 au mieux"
   ]
  },
  {
   "cell_type": "markdown",
   "id": "4a66a196",
   "metadata": {},
   "source": [
    "## Exercice 3 : tableau de bord\n",
    "\n",
    "Pour avoir une vision synthétique des informations, une nouvelle version du programme est mise en oeuvre. Le responsable d'exploitation souhaite disposer d'un tableau de bord affichant la température moyenne mesurée dans la journée, la température maxi et la température mini.\n",
    "\n",
    "Vous devrez obtenir l'affichage ci-dessous:\n",
    "```\n",
    "Tableau de bord\n",
    "---------------------------------------------------------\n",
    "                moy min max\n",
    "chambrefroide01 3.4 2.5 6.4\n",
    "chambrefroide02 2.8 2.5 4.1\n",
    "chambrefroide03 2.7 2.5 3.6\n",
    "```"
   ]
  },
  {
   "cell_type": "code",
   "execution_count": null,
   "id": "7ae49dd4",
   "metadata": {},
   "outputs": [
    {
     "name": "stdout",
     "output_type": "stream",
     "text": [
      "Tableau de bord :\n",
      "---------------------------------------------------------\n",
      "                moy min max\n",
      "chambrefroide01 3.4 2.5 6.4\n",
      "chambrefroide02 2.8 2.5 4.1\n",
      "chambrefroide03 2.7 2.5 3.6\n"
     ]
    }
   ],
   "source": [
    "# Code source exercice 3\n",
    "\n",
    "# affichage des temperatures v1\n",
    "import csv\n",
    "\n",
    "# Selection d'une chambre froide\n",
    "num_chambrefroide = input('Choisissez un numéro de chambre froide (1, 2 ou 3) ou 4 pour le tableau de bord global : ')\n",
    "if num_chambrefroide in ('1','2','3'):\n",
    "\n",
    "    # Affichage de l'entete du programme\n",
    "    print(\"Affichage des mesures de température d'une chambre froide\")\n",
    "    print('-'*57)\n",
    "\n",
    "    # Nom de la chambre froide a rechercher dans les données\n",
    "    recherche = 'chambrefroide0' + num_chambrefroide\n",
    "    \n",
    "    # Ouverture du fichier de données\n",
    "    with open('traiteur.csv') as csv_file:\n",
    "        contenu_csv = csv.reader(csv_file, delimiter=';')\n",
    "        \n",
    "        # parcours des données du fichier\n",
    "        for champ in contenu_csv:\n",
    "            if champ[2] == recherche:\n",
    "                temperature_corrigee = champ[3].replace(',', '.')\n",
    "                champ[3] = float(temperature_corrigee)\n",
    "                if champ[3]> 3.9:\n",
    "                    alarme = ' **Alarme**'\n",
    "                    champ[3] = str(champ[3]) + alarme\n",
    "                print(champ[0],champ[1],champ[2],champ[3])\n",
    "#______________________________________________________________________________________________________________________________#\n",
    "    #Le code du DM commence ici\n",
    "elif num_chambrefroide in ('4'):\n",
    "    \n",
    "    def afficher_tableau_bord():\n",
    "        # Affichage de l'entete du programme\n",
    "        print('Tableau de bord :\\n' + '-' * 57)\n",
    "\n",
    "        # Init du json pour regrouper les temperatures par chambre\n",
    "        chambres = {}\n",
    "        for i in range(3):\n",
    "            chambres[f'chambrefroide0{i+1}'] = []\n",
    "\n",
    "        # Ouverture du fichier de données\n",
    "        with open('traiteur.csv') as csv_file:\n",
    "            CONTENUE_CSV = csv.reader(csv_file, delimiter=';')\n",
    "            next(CONTENUE_CSV)\n",
    "\n",
    "            # Lecture et traitement des données\n",
    "            for champ in CONTENUE_CSV:\n",
    "                chambre, temperature = champ[2], champ[3].replace(',', '.')\n",
    "                if chambre in chambres:\n",
    "                    try:\n",
    "                        chambres[chambre].append(float(temperature))\n",
    "                    except ValueError:\n",
    "                        pass # Ignorer\n",
    "            \n",
    "            # Affichage des résultats\n",
    "            print(' '*15, 'moy ' 'min ' 'max')\n",
    "            for chambre, temperatures in chambres.items():\n",
    "                if temperatures:\n",
    "                    moyenne, minimum, maximum = round(sum(temperatures) / len(temperatures), 1), min(temperatures), max(temperatures)\n",
    "                    print(f\"{chambre:<15} {moyenne:<3} {minimum:<3} {maximum:<3}\")\n",
    "                else:\n",
    "                    print(f\"{chambre:<15} {'-':<3} {'-':<3} {'-':<3}\")\n",
    "\n",
    "    if __name__ == \"__main__\":\n",
    "        afficher_tableau_bord()\n",
    "else:\n",
    "    print(\"erreur: numéro de chambre froide incorrect\")"
   ]
  },
  {
   "cell_type": "code",
   "execution_count": null,
   "id": "f559936c",
   "metadata": {},
   "outputs": [],
   "source": []
  }
 ],
 "metadata": {
  "kernelspec": {
   "display_name": "Python 3",
   "language": "python",
   "name": "python3"
  },
  "language_info": {
   "codemirror_mode": {
    "name": "ipython",
    "version": 3
   },
   "file_extension": ".py",
   "mimetype": "text/x-python",
   "name": "python",
   "nbconvert_exporter": "python",
   "pygments_lexer": "ipython3",
   "version": "3.11.9"
  }
 },
 "nbformat": 4,
 "nbformat_minor": 5
}
