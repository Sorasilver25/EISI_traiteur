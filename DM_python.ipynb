{
 "cells": [
  {
   "cell_type": "markdown",
   "id": "7325070d",
   "metadata": {},
   "source": [
    "# Test Python\n",
    "\n",
    "Nom : Niceto\n",
    "\n",
    "Prénom : Adrien\n",
    "\n",
    "DM: Optimiser le code de l'exercice 3 au mieux"
   ]
  },
  {
   "cell_type": "markdown",
   "id": "4a66a196",
   "metadata": {},
   "source": [
    "## Exercice 3 : tableau de bord\n",
    "\n",
    "Pour avoir une vision synthétique des informations, une nouvelle version du programme est mise en oeuvre. Le responsable d'exploitation souhaite disposer d'un tableau de bord affichant la température moyenne mesurée dans la journée, la température maxi et la température mini.\n",
    "\n",
    "Vous devrez obtenir l'affichage ci-dessous:\n",
    "```\n",
    "Tableau de bord\n",
    "---------------------------------------------------------\n",
    "                moy min max\n",
    "chambrefroide01 3.4 2.5 6.4\n",
    "chambrefroide02 2.8 2.5 4.1\n",
    "chambrefroide03 2.7 2.5 3.6\n",
    "```"
   ]
  },
  {
   "cell_type": "code",
   "execution_count": 52,
   "id": "7ae49dd4",
   "metadata": {},
   "outputs": [
    {
     "name": "stdout",
     "output_type": "stream",
     "text": [
      "Tableau de bord :\n",
      "---------------------------------------------------------\n",
      "chambrefroide01   3.4  2.5  6.4\n",
      "chambrefroide02   2.8  2.5  4.1\n",
      "chambrefroide03   2.7  2.5  3.6\n"
     ]
    }
   ],
   "source": [
    "import csv\n",
    "from collections import defaultdict\n",
    "\n",
    "# Fonction avec un generateur qui vient lire les données ligne par ligne\n",
    "def lecture_donnees(filename):\n",
    "    \"\"\"Génère les données à partir du fichier CSV, ligne par ligne.\"\"\"\n",
    "    with open(filename, mode='r') as csv_file:\n",
    "        contenu_csv = csv.reader(csv_file, delimiter=';')\n",
    "        next(contenu_csv)\n",
    "        for ligne in contenu_csv:\n",
    "            yield ligne\n",
    "\n",
    "# Fonction de calcul des données\n",
    "def structurer_donnees(filename):\n",
    "    \"\"\"Structure les données pour traiter les données par chambre.\"\"\"\n",
    "    chambres = defaultdict(lambda: {'sum': 0, 'min': float('inf'), 'max': float('-inf'), 'count': 0})\n",
    "    \n",
    "    # Appel de la fonction pour la gestion des données\n",
    "    for ligne in lecture_donnees(filename):\n",
    "        chambre = ligne[2]\n",
    "        temperature = ligne[3].replace(',', '.')\n",
    "        temp = float(temperature)\n",
    "        # Verifie la conversion en float\n",
    "        if isinstance(temp, float):\n",
    "            # Met à jour les statistiques de la chambre\n",
    "            chambres[chambre]['sum'] += temp\n",
    "            chambres[chambre]['min'] = min(chambres[chambre]['min'], temp)\n",
    "            chambres[chambre]['max'] = max(chambres[chambre]['max'], temp)\n",
    "            chambres[chambre]['count'] += 1 # Ajout du comptage des données\n",
    "        else:\n",
    "            print(f\"Erreur de conversion de la température en float pour la chambre {chambre}. Valeur ignorée.\")\n",
    "    \n",
    "    return chambres\n",
    "\n",
    "# Fonction qui affiche les résultats sous forme de tableau\n",
    "def afficher_resultats(chambres):\n",
    "    \"\"\"Affiche les résultats des températures pour chaque chambre.\"\"\"\n",
    "    print('Tableau de bord :\\n' + '-' * 57)\n",
    "    for chambre, stats in chambres.items():\n",
    "        if stats['count'] > 0:\n",
    "            moyenne = stats['sum'] / stats['count']\n",
    "            print(f\"{chambre:16}{round(moyenne, 1):5}{stats['min']:5}{stats['max']:5}\")\n",
    "        else:\n",
    "            print(f\"{chambre:16}Aucune donnée\")\n",
    "\n",
    "def main():\n",
    "    \"\"\"Programme principal.\"\"\"\n",
    "    filename = \"traiteur.csv\"\n",
    "    try:\n",
    "        chambres = structurer_donnees(filename)\n",
    "        afficher_resultats(chambres)\n",
    "    except RuntimeError as e:\n",
    "        raise RuntimeError(f\"Erreur lors de l'execution du programme : {e}\")\n",
    "    \n",
    "if __name__ == '__main__':\n",
    "    main()\n"
   ]
  },
  {
   "cell_type": "code",
   "execution_count": null,
   "id": "f559936c",
   "metadata": {},
   "outputs": [],
   "source": []
  }
 ],
 "metadata": {
  "kernelspec": {
   "display_name": "Python 3",
   "language": "python",
   "name": "python3"
  },
  "language_info": {
   "codemirror_mode": {
    "name": "ipython",
    "version": 3
   },
   "file_extension": ".py",
   "mimetype": "text/x-python",
   "name": "python",
   "nbconvert_exporter": "python",
   "pygments_lexer": "ipython3",
   "version": "3.11.9"
  }
 },
 "nbformat": 4,
 "nbformat_minor": 5
}
